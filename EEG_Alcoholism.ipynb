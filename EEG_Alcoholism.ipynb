{
 "cells": [
  {
   "cell_type": "code",
   "execution_count": null,
   "metadata": {
    "vscode": {
     "languageId": "plaintext"
    }
   },
   "outputs": [],
   "source": [
    "# This Python 3 environment comes with many helpful analytics libraries installed\n",
    "# It is defined by the kaggle/python Docker image: https://github.com/kaggle/docker-python\n",
    "# For example, here's several helpful packages to load\n",
    "\n",
    "import numpy as np # linear algebra\n",
    "import pandas as pd # data processing, CSV file I/O (e.g. pd.read_csv)\n",
    "\n",
    "# Input data files are available in the read-only \"../input/\" directory\n",
    "# For example, running this (by clicking run or pressing Shift+Enter) will list all files under the input directory\n",
    "\n",
    "import os\n",
    "for dirname, _, filenames in os.walk('/kaggle/input'):\n",
    "    for filename in filenames:\n",
    "        print(os.path.join(dirname, filename))\n",
    "\n",
    "# You can write up to 20GB to the current directory (/kaggle/working/) that gets preserved as output when you create a version using \"Save & Run All\" \n",
    "# You can also write temporary files to /kaggle/temp/, but they won't be saved outside of the current session"
   ]
  },
  {
   "cell_type": "code",
   "execution_count": null,
   "metadata": {
    "vscode": {
     "languageId": "plaintext"
    }
   },
   "outputs": [],
   "source": [
    "!pip install PyWavelets"
   ]
  },
  {
   "cell_type": "code",
   "execution_count": null,
   "metadata": {
    "vscode": {
     "languageId": "plaintext"
    }
   },
   "outputs": [],
   "source": [
    "# Base libraries\n",
    "from multiprocessing import Pool\n",
    "\n",
    "import os #os: Used for interacting with the file system (e.g., listing files in a directory).\n",
    "import numpy as np\n",
    "import mne\n",
    "import pandas as pd\n",
    "import random\n",
    "\n",
    "from tqdm import tqdm\n",
    "import torch\n",
    "import torch.nn as nn\n",
    "import torch.nn.functional as F\n",
    "import seaborn as sns\n",
    "import matplotlib.pyplot as plt\n",
    "from scipy.fftpack import fft, fftfreq, rfft, rfftfreq\n",
    "from sklearn.preprocessing import quantile_transform\n",
    "from sklearn.preprocessing import minmax_scale\n",
    "from sklearn.preprocessing import normalize\n",
    "from sklearn.preprocessing import scale\n",
    "from sklearn.preprocessing import robust_scale\n",
    "import mne\n",
    "import matplotlib\n",
    "from collections import defaultdict\n",
    "from math import cos, sin, acos, radians, pi\n",
    "from scipy.interpolate import griddata\n",
    "from numpy import newaxis\n",
    "from torch.utils.data import Dataset, DataLoader\n",
    "from torchvision import transforms, utils\n",
    "\n",
    "\n",
    "# Wavelets\n",
    "import pywt"
   ]
  },
  {
   "cell_type": "code",
   "execution_count": null,
   "metadata": {
    "vscode": {
     "languageId": "plaintext"
    }
   },
   "outputs": [],
   "source": [
    "test_dir = '/kaggle/input/Alcoholics/SMNI_CMI_TEST'\n",
    "train_dir = '/kaggle/input/Alcoholics/SMNI_CMI_TRAIN'"
   ]
  },
  {
   "cell_type": "code",
   "execution_count": null,
   "metadata": {
    "vscode": {
     "languageId": "plaintext"
    }
   },
   "outputs": [],
   "source": [
    "# wrap your csv importer in a function that can be mapped\n",
    "def read_csv(filename):\n",
    "    'converts a filename to a pandas dataframe'\n",
    "    return pd.read_csv(filename)\n",
    "\n",
    "\n",
    "# get a list of file names\n",
    "files_train = os.listdir(train_dir)\n",
    "#ile_list_train = [os.path.join(train_dir,filename) for filename in files_train if filename.split('.')[1]=='csv']\n",
    "\n",
    "files_test = os.listdir(test_dir)\n",
    "#ile_list_test = [os.path.join(test_dir,filename) for filename in files_test if filename.split('.')[1]=='csv']\n",
    "\n",
    "file_list_train = [os.path.join(train_dir, filename) for filename in files_train if '.' in filename and filename.split('.')[-1] == 'csv']\n",
    "file_list_test = [os.path.join(test_dir, filename) for filename in files_test if '.' in filename and filename.split('.')[-1] == 'csv']\n",
    "\n",
    "# set up your pool\n",
    "with Pool(processes=12) as pool:\n",
    "\n",
    "    # pool maps the dataframe\n",
    "\n",
    "\n",
    "    df_list_train = pool.map(read_csv, file_list_train)\n",
    "    df_list_test =  pool.map(read_csv, file_list_test)\n",
    "\n",
    "\n",
    "# reduce the list of dataframes to a single dataframe\n",
    "combined_df_train = pd.concat(df_list_train, ignore_index=True)\n",
    "combined_df_test = pd.concat(df_list_test, ignore_index=True)\n",
    "combined_df = pd.concat([combined_df_train,combined_df_test], ignore_index=True)\n",
    "\n",
    "\n",
    "EEG_data = combined_df[combined_df['subject identifier'] == 'a']\n",
    "EEG_data_control = combined_df[combined_df['subject identifier'] == 'c']\n",
    "\n",
    "EEG_data.head()"
   ]
  },
  {
   "cell_type": "markdown",
   "metadata": {},
   "source": [
    "Band Pass Filter"
   ]
  },
  {
   "cell_type": "code",
   "execution_count": null,
   "metadata": {
    "vscode": {
     "languageId": "plaintext"
    }
   },
   "outputs": [],
   "source": [
    "from scipy.signal import butter, lfilter"
   ]
  },
  {
   "cell_type": "code",
   "execution_count": null,
   "metadata": {
    "vscode": {
     "languageId": "plaintext"
    }
   },
   "outputs": [],
   "source": [
    "FS= 256\n",
    "# Butterworth Bandpass Filter function\n",
    "def butter_bandpass_filter(data, lowcut, highcut, fs, order=5):   #order=5: The filter's order. Higher orders give sharper frequency cutoffs but can distort the signal.\n",
    "    nyq = 0.5 * fs   #nyq = 0.5 * fs: The Nyquist frequency, half of the sampling rate, which represents the highest frequency that can be analyzed.\n",
    "    low = lowcut / nyq\n",
    "    high = highcut / nyq\n",
    "    b, a = butter(order, [low, high], btype='band')\n",
    "    y = lfilter(b, a, data)\n",
    "    return y\n",
    "\n",
    "# Apply Butterworth filter to the sensor value\n",
    "def apply_filter(df):\n",
    "  #lowcut and highcut: Lower and upper cutoff frequencies for the bandpass filter (e.g., 1 Hz to 30 Hz).\n",
    "    df['filtered_sensor_value'] = butter_bandpass_filter(df['sensor value'], 1, 30, FS)\n",
    "    return df\n",
    "\n",
    "# Apply the filter to both alcohol (EEG_data) and control (EEG_data_control)\n",
    "EEG_data_filtered = EEG_data.groupby(['name', 'trial number', 'sensor position']).apply(apply_filter).reset_index(drop=True)\n",
    "EEG_data_control_filtered = EEG_data_control.groupby(['name', 'trial number', 'sensor position']).apply(apply_filter).reset_index(drop=True)\n",
    "\n",
    "# Function to plot filtered data for selected sensors\n",
    "def plot_filtered_data(df_alcohol, df_control, sensors):\n",
    "    for sensor in sensors:\n",
    "        plt.figure(figsize=(15, 5))\n",
    "        for condition in df_alcohol['matching condition'].unique():\n",
    "            plt.subplot(1, len(df_alcohol['matching condition'].unique()),\n",
    "                        list(df_alcohol['matching condition'].unique()).index(condition) + 1)\n",
    "\n",
    "            # Plot for alcohol group\n",
    "            subset_alcohol = df_alcohol[(df_alcohol['sensor position'] == sensor) &\n",
    "                                        (df_alcohol['matching condition'] == condition)]\n",
    "            if not subset_alcohol.empty:\n",
    "                subset_alcohol.groupby('time')['filtered_sensor_value'].mean().plot(\n",
    "                    label='Alcohol Group', color='blue', linewidth=1.5)\n",
    "\n",
    "            # Plot for control group\n",
    "            subset_control = df_control[(df_control['sensor position'] == sensor) &\n",
    "                                        (df_control['matching condition'] == condition)]\n",
    "            if not subset_control.empty:\n",
    "                subset_control.groupby('time')['filtered_sensor_value'].mean().plot(\n",
    "                    label='Control Group', color='orange', linewidth=1.5)\n",
    "\n",
    "            plt.title(f'Sensor {sensor} - Condition: {condition}')\n",
    "            plt.xlabel('Time (s)')\n",
    "            plt.ylabel('Filtered Sensor Value (µV)')\n",
    "\n",
    "            # Only show legend if there is something to show\n",
    "            if not subset_alcohol.empty or not subset_control.empty:\n",
    "                plt.legend()\n",
    "\n",
    "        plt.tight_layout()\n",
    "        plt.show()\n",
    "\n",
    "\n",
    "# Specify sensors to plot\n",
    "sensors_to_plot = ['AF1', 'FP1', 'CZ']  # Replace with actual sensor names\n",
    "plot_filtered_data(EEG_data_filtered, EEG_data_control_filtered, sensors_to_plot)"
   ]
  },
  {
   "cell_type": "markdown",
   "metadata": {},
   "source": [
    "In EEG (electroencephalography) analysis, brain signals are categorized into different frequency bands, each associated with specific mental and physiological states. These frequency bands typically fall within the range of 1 Hz to 30 Hz, which is why this range is commonly targeted when processing EEG signals. Here's a breakdown of the relevant frequency bands within the 1 Hz to 30 Hz range:\n",
    "\n",
    "Delta (0.5 - 4 Hz):\n",
    "\n",
    "Associated with deep sleep and unconscious states. Typically seen in slow-wave sleep. Theta (4 - 8 Hz):\n",
    "\n",
    "Linked to drowsiness, relaxation, and light sleep. Involved in memory formation and creativity. Alpha (8 - 13 Hz):\n",
    "\n",
    "Associated with relaxation, calmness, and quiet alertness. Often observed when the eyes are closed and the brain is at rest. Beta (13 - 30 Hz):\n",
    "\n",
    "Associated with active thinking, concentration, and problem-solving. Present during cognitive and motor activities."
   ]
  },
  {
   "cell_type": "code",
   "execution_count": null,
   "metadata": {
    "vscode": {
     "languageId": "plaintext"
    }
   },
   "outputs": [],
   "source": [
    "EEG_data=EEG_data_filtered\n",
    "EEG_data_control=EEG_data_control_filtered"
   ]
  },
  {
   "cell_type": "code",
   "execution_count": null,
   "metadata": {
    "vscode": {
     "languageId": "plaintext"
    }
   },
   "outputs": [],
   "source": [
    "EEG_data.head()"
   ]
  },
  {
   "cell_type": "code",
   "execution_count": null,
   "metadata": {
    "vscode": {
     "languageId": "plaintext"
    }
   },
   "outputs": [],
   "source": [
    "# standardizing the sensor position naming convention\n",
    "\n",
    "#\n",
    "\n",
    "EEG_data = EEG_data.drop(['Unnamed: 0'], axis=1)\n",
    "EEG_data.loc[EEG_data['matching condition'] == 'S2 nomatch,', 'matching condition'] =  'S2 nomatch' ## remove comma sign e\n",
    "\n",
    "\n",
    "EEG_data.loc[EEG_data['sensor position'] == 'AF1', 'sensor position'] = 'AF3'\n",
    "EEG_data.loc[EEG_data['sensor position'] == 'AF2', 'sensor position'] = 'AF4'\n",
    "EEG_data.loc[EEG_data['sensor position'] == 'PO1', 'sensor position'] = 'PO3'\n",
    "EEG_data.loc[EEG_data['sensor position'] == 'PO2', 'sensor position'] = 'PO4'\n",
    "\n",
    "EEG_data.loc[EEG_data['sensor position'] == 'FP1', 'sensor position'] = 'Fp1'\n",
    "EEG_data.loc[EEG_data['sensor position'] == 'FP2', 'sensor position'] = 'Fp2'\n",
    "EEG_data.loc[EEG_data['sensor position'] == 'CPZ', 'sensor position'] = 'CPz'\n",
    "EEG_data.loc[EEG_data['sensor position'] == 'FZ', 'sensor position'] = 'Fz'\n",
    "\n",
    "EEG_data.loc[EEG_data['sensor position'] == 'CZ', 'sensor position'] = 'Cz'\n",
    "\n",
    "EEG_data.loc[EEG_data['sensor position'] == 'PZ', 'sensor position'] = 'Pz'\n",
    "EEG_data.loc[EEG_data['sensor position'] == 'FPZ', 'sensor position'] = 'Fpz'\n",
    "EEG_data.loc[EEG_data['sensor position'] == 'AFZ', 'sensor position'] = 'AFz'\n",
    "EEG_data.loc[EEG_data['sensor position'] == 'FCZ', 'sensor position'] = 'FCz'\n",
    "\n",
    "EEG_data.loc[EEG_data['sensor position'] == 'POZ', 'sensor position'] = 'POz'\n",
    "EEG_data.loc[EEG_data['sensor position'] == 'OZ', 'sensor position'] = 'Oz'\n",
    "\n",
    "## Control Group\n",
    "\n",
    "\n",
    "EEG_data_control = EEG_data_control.drop(['Unnamed: 0'], axis=1)\n",
    "EEG_data_control.loc[EEG_data_control['matching condition'] == 'S2 nomatch,', 'matching condition'] =  'S2 nomatch'\n",
    "## replace some 'sensor position' values\n",
    "EEG_data_control.loc[EEG_data_control['sensor position'] == 'AF1', 'sensor position'] = 'AF3'\n",
    "EEG_data_control.loc[EEG_data_control['sensor position'] == 'AF2', 'sensor position'] = 'AF4'\n",
    "EEG_data_control.loc[EEG_data_control['sensor position'] == 'PO1', 'sensor position'] = 'PO3'\n",
    "EEG_data_control.loc[EEG_data_control['sensor position'] == 'PO2', 'sensor position'] = 'PO4'\n",
    "\n",
    "EEG_data_control.loc[EEG_data_control['sensor position'] == 'FP1', 'sensor position'] = 'Fp1'\n",
    "EEG_data_control.loc[EEG_data_control['sensor position'] == 'FP2', 'sensor position'] = 'Fp2'\n",
    "EEG_data_control.loc[EEG_data_control['sensor position'] == 'CPZ', 'sensor position'] = 'CPz'\n",
    "EEG_data_control.loc[EEG_data_control['sensor position'] == 'FZ', 'sensor position'] = 'Fz'\n",
    "\n",
    "EEG_data_control.loc[EEG_data_control['sensor position'] == 'CZ', 'sensor position'] = 'Cz'\n",
    "\n",
    "EEG_data_control.loc[EEG_data_control['sensor position'] == 'PZ', 'sensor position'] = 'Pz'\n",
    "EEG_data_control.loc[EEG_data_control['sensor position'] == 'FPZ', 'sensor position'] = 'Fpz'\n",
    "EEG_data_control.loc[EEG_data_control['sensor position'] == 'AFZ', 'sensor position'] = 'AFz'\n",
    "EEG_data_control.loc[EEG_data_control['sensor position'] == 'FCZ', 'sensor position'] = 'FCz'\n",
    "\n",
    "EEG_data_control.loc[EEG_data_control['sensor position'] == 'POZ', 'sensor position'] = 'POz'\n",
    "EEG_data_control.loc[EEG_data_control['sensor position'] == 'OZ', 'sensor position'] = 'Oz'\n",
    "EEG_data_control.head()"
   ]
  },
  {
   "cell_type": "code",
   "execution_count": null,
   "metadata": {
    "vscode": {
     "languageId": "plaintext"
    }
   },
   "outputs": [],
   "source": [
    "EEG_data.to_csv('EEG_data.csv')\n",
    "EEG_data_control.to_csv('EEG_data_control.csv')"
   ]
  },
  {
   "cell_type": "code",
   "execution_count": null,
   "metadata": {
    "vscode": {
     "languageId": "plaintext"
    }
   },
   "outputs": [],
   "source": [
    "# Organzing according to experiment condition groups\n",
    "\n",
    "#Alc_Groups\n",
    "Alc_S1Obj = EEG_data[EEG_data['matching condition'] == 'S1 obj']\n",
    "Alc_S2Match = EEG_data[EEG_data['matching condition'] == 'S2 match']\n",
    "Alc_S2Nomatch = EEG_data[EEG_data['matching condition'] == 'S2 nomatch']\n",
    "\n",
    "#Control groups\n",
    "Con_S1Obj = EEG_data_control[EEG_data_control['matching condition'] == 'S1 obj']\n",
    "Con_S2Match = EEG_data_control[EEG_data_control['matching condition'] == 'S2 match']\n",
    "Con_S2Nomatch = EEG_data_control[EEG_data_control['matching condition'] == 'S2 nomatch']\n",
    "\n",
    "\n",
    "def trial_len_integrity_check(inputDF):\n",
    "\n",
    "  nameAndTrialNumber = inputDF.groupby(['trial number','name']).size().reset_index().rename(columns={0:'count'})\n",
    "  nameAndTrialNumber['count'] =np.where(nameAndTrialNumber['count'] == 16384,False,True)\n",
    "\n",
    "  del inputDF\n",
    "\n",
    "  if nameAndTrialNumber['count'].any():\n",
    "    # data integrity problem\n",
    "    Exception('Data Integrity problem, one of the arrays is not shaped 256x256')\n",
    "\n",
    "\n",
    "  return nameAndTrialNumber[['trial number','name']]\n",
    "\n",
    "\n",
    "# Creating dataframes that contain relevant indexing information and checks data integrity\n",
    "# Trial Number, and subject names\n",
    "\n",
    "Con_S1Obj_Index = trial_len_integrity_check(Con_S1Obj)\n",
    "Con_S2Match_Index = trial_len_integrity_check(Con_S2Match)\n",
    "Con_S2Nomatch_Index = trial_len_integrity_check(Con_S2Nomatch)\n",
    "\n",
    "Alc_S1Obj_Index = trial_len_integrity_check(Alc_S1Obj)\n",
    "Alc_S2Match_Index = trial_len_integrity_check(Alc_S2Match)\n",
    "Alc_S2Nomatch_Index = trial_len_integrity_check(Alc_S2Nomatch)\n",
    "\n",
    "All_Alcs = pd.concat([Alc_S1Obj_Index,Alc_S2Match_Index,Alc_S2Nomatch_Index])\n",
    "All_Cons = pd.concat([Con_S1Obj_Index,Con_S2Match_Index,Con_S2Nomatch_Index])\n",
    "\n",
    "All_Alcs.reset_index(drop=True,inplace=True)\n",
    "All_Cons.reset_index(drop=True,inplace=True)"
   ]
  },
  {
   "cell_type": "code",
   "execution_count": null,
   "metadata": {
    "vscode": {
     "languageId": "plaintext"
    }
   },
   "outputs": [],
   "source": [
    "EEG_data_agg = EEG_data.groupby(['time', 'sensor position']).agg({'sensor value': 'mean'}).reset_index()\n",
    "EEG_data_pivoted = EEG_data_agg.pivot(index='time', columns='sensor position', values='sensor value')\n",
    "EEG_data_pivoted.drop(columns=['X','Y','nd'],inplace=True)\n",
    "EEG_data_pivoted"
   ]
  },
  {
   "cell_type": "code",
   "execution_count": null,
   "metadata": {
    "vscode": {
     "languageId": "plaintext"
    }
   },
   "outputs": [],
   "source": [
    "EEG_data_pivoted.to_csv('EEG_data_pivoted.csv')"
   ]
  },
  {
   "cell_type": "code",
   "execution_count": null,
   "metadata": {
    "vscode": {
     "languageId": "plaintext"
    }
   },
   "outputs": [],
   "source": [
    "%matplotlib inline\n",
    "\n",
    "plt.xlabel('time')\n",
    "plt.ylabel('sensor value')\n",
    "plt.scatter(EEG_data_pivoted.index, EEG_data_pivoted['AF3'])"
   ]
  },
  {
   "cell_type": "code",
   "execution_count": null,
   "metadata": {
    "vscode": {
     "languageId": "plaintext"
    }
   },
   "outputs": [],
   "source": [
    "EEG_data_control_agg = EEG_data_control.groupby(['time', 'sensor position']).agg({'sensor value': 'mean'}).reset_index()\n",
    "EEG_data_control_pivoted = EEG_data_control_agg.pivot(index='time', columns='sensor position', values='sensor value')\n",
    "EEG_data_control_pivoted.drop(columns=['X','Y','nd'],inplace=True)\n",
    "EEG_data_control_pivoted"
   ]
  },
  {
   "cell_type": "code",
   "execution_count": null,
   "metadata": {
    "vscode": {
     "languageId": "plaintext"
    }
   },
   "outputs": [],
   "source": [
    "import matplotlib.pyplot as plt\n",
    "%matplotlib inline\n",
    "\n",
    "plt.xlabel('time')\n",
    "plt.ylabel('sensor value') \n",
    "plt.scatter(EEG_data_control_pivoted.index, EEG_data_control_pivoted['AF3'],color=\"orange\")"
   ]
  },
  {
   "cell_type": "code",
   "execution_count": null,
   "metadata": {
    "vscode": {
     "languageId": "plaintext"
    }
   },
   "outputs": [],
   "source": [
    "EEG_data_control_pivoted.to_csv('EEG_data_control_pivoted.csv')"
   ]
  },
  {
   "cell_type": "code",
   "execution_count": null,
   "metadata": {
    "vscode": {
     "languageId": "plaintext"
    }
   },
   "outputs": [],
   "source": [
    "file_path_alcoholic = 'EEG_data_pivoted.csv'\n",
    "file_path_control = 'EEG_data_control_pivoted.csv'\n",
    "\n",
    "eeg_alcoholic = pd.read_csv(file_path_alcoholic)\n",
    "eeg_control = pd.read_csv(file_path_control)"
   ]
  },
  {
   "cell_type": "code",
   "execution_count": null,
   "metadata": {
    "vscode": {
     "languageId": "plaintext"
    }
   },
   "outputs": [],
   "source": [
    "eeg_alcoholic.head(), eeg_control.head()"
   ]
  },
  {
   "cell_type": "code",
   "execution_count": null,
   "metadata": {
    "vscode": {
     "languageId": "plaintext"
    }
   },
   "outputs": [],
   "source": [
    "# Selecting a few representative sensors for visualization\n",
    "sensors_to_plot = ['AF3', 'AF4', 'C3', 'C4', 'Pz']\n",
    "\n",
    "# Plotting scatter plots for alcoholic group\n",
    "plt.figure(figsize=(14, 6))\n",
    "for i, sensor in enumerate(sensors_to_plot):\n",
    "    plt.subplot(2, len(sensors_to_plot), i + 1)\n",
    "    plt.scatter(eeg_alcoholic['time'], eeg_alcoholic[sensor], alpha=0.5, label='Alcoholic')\n",
    "    plt.xlabel('Time')\n",
    "    plt.ylabel('Sensor Value')\n",
    "    plt.title(f'Alcoholic Group - {sensor}')\n",
    "    plt.grid(True)\n",
    "\n",
    "# Plotting scatter plots for control group\n",
    "for i, sensor in enumerate(sensors_to_plot):\n",
    "    plt.subplot(2, len(sensors_to_plot), i + 1 + len(sensors_to_plot))\n",
    "    plt.scatter(eeg_control['time'], eeg_control[sensor], alpha=0.5, color='orange', label='Control')\n",
    "    plt.xlabel('Time')\n",
    "    plt.ylabel('Sensor Value')\n",
    "    plt.title(f'Control Group - {sensor}')\n",
    "    plt.grid(True)\n",
    "\n",
    "plt.tight_layout()\n",
    "plt.show()"
   ]
  },
  {
   "cell_type": "code",
   "execution_count": null,
   "metadata": {
    "vscode": {
     "languageId": "plaintext"
    }
   },
   "outputs": [],
   "source": [
    "# Scatter plot for the alcoholic group (time vs sensor values)\n",
    "plt.figure(figsize=(10, 8))\n",
    "for column in eeg_alcoholic.columns:\n",
    "    if column != 'time':\n",
    "        plt.scatter(eeg_alcoholic['time'], eeg_alcoholic[column], label=f'Alcoholic {column}', alpha=0.5)\n",
    "\n",
    "plt.title('EEG Data Scatter Plot - Alcoholic Group')\n",
    "plt.xlabel('Time')\n",
    "plt.ylabel('Sensor Value')\n",
    "# Place the legend below the plot in a row order\n",
    "plt.legend(loc='upper center', bbox_to_anchor=(0.5, -0.15), ncol=6)\n",
    "plt.tight_layout()\n",
    "plt.show()\n",
    "\n",
    "# Scatter plot for the control group (time vs sensor values)\n",
    "plt.figure(figsize=(10, 8))\n",
    "for column in eeg_control.columns:\n",
    "    if column != 'time':\n",
    "        plt.scatter(eeg_control['time'], eeg_control[column], label=f'Control {column}', alpha=0.5)\n",
    "\n",
    "plt.title('EEG Data Scatter Plot - Control Group')\n",
    "plt.xlabel('Time')\n",
    "plt.ylabel('Sensor Value')\n",
    "# Place the legend below the plot in a row order\n",
    "plt.legend(loc='upper center', bbox_to_anchor=(0.5, -0.15), ncol=6)\n",
    "plt.tight_layout()\n",
    "plt.show()"
   ]
  },
  {
   "cell_type": "code",
   "execution_count": null,
   "metadata": {
    "vscode": {
     "languageId": "plaintext"
    }
   },
   "outputs": [],
   "source": [
    "Model Training and fitting"
   ]
  },
  {
   "cell_type": "code",
   "execution_count": null,
   "metadata": {
    "vscode": {
     "languageId": "plaintext"
    }
   },
   "outputs": [],
   "source": [
    "from sklearn.model_selection import train_test_split\n",
    "from sklearn.neighbors import KNeighborsClassifier\n",
    "from sklearn.preprocessing import StandardScaler\n",
    "from sklearn.metrics import classification_report, confusion_matrix\n",
    "\n",
    "# Adding a label to distinguish between alcoholic (1) and control (0)\n",
    "eeg_alcoholic['label'] = 1\n",
    "eeg_control['label'] = 0\n",
    "\n",
    "# Combining both datasets\n",
    "eeg_combined = pd.concat([eeg_alcoholic, eeg_control], ignore_index=True)\n",
    "\n",
    "# Defining features (sensor data) and label\n",
    "X = eeg_combined.drop(['time', 'label'], axis=1)\n",
    "y = eeg_combined['label']\n",
    "\n",
    "# Splitting the data into training and testing sets\n",
    "X_train, X_test, y_train, y_test = train_test_split(X, y, test_size=0.2, random_state=42)\n",
    "\n",
    "# Standardizing the data\n",
    "scaler = StandardScaler()\n",
    "X_train_scaled = scaler.fit_transform(X_train)\n",
    "X_test_scaled = scaler.transform(X_test)\n",
    "\n",
    "# effect to precision\n",
    "# X_train_scaled = X_train\n",
    "# X_test_scaled = X_test\n",
    "\n",
    "# Training the KNN classifier\n",
    "knn = KNeighborsClassifier(n_neighbors=5)\n",
    "knn.fit(X_train_scaled, y_train)\n",
    "\n",
    "# Making predictions\n",
    "y_pred = knn.predict(X_test_scaled)\n",
    "\n",
    "# Evaluating the model\n",
    "conf_matrix = confusion_matrix(y_test, y_pred)\n",
    "class_report = classification_report(y_test, y_pred)\n",
    "\n",
    "# Plotting the confusion matrix\n",
    "plt.figure(figsize=(6,4))\n",
    "sns.heatmap(conf_matrix, annot=True, fmt='g', cmap='Blues', cbar=False)\n",
    "plt.title('Confusion Matrix')\n",
    "plt.xlabel('Predicted Labels')\n",
    "plt.ylabel('True Labels')\n",
    "plt.show()\n",
    "# Displaying the classification report in a tabular form\n",
    "report_df = pd.DataFrame(classification_report(y_test, y_pred, output_dict=True)).transpose()\n",
    "\n",
    "# Showing the classification report\n",
    "print(\"Classification Report:\")\n",
    "print(report_df)"
   ]
  },
  {
   "cell_type": "code",
   "execution_count": null,
   "metadata": {
    "vscode": {
     "languageId": "plaintext"
    }
   },
   "outputs": [],
   "source": [
    "from sklearn.metrics import accuracy_score\n",
    "\n",
    "# Extracting the overall metrics from the classification report\n",
    "report_dict = classification_report(y_test, y_pred, output_dict=True)\n",
    "\n",
    "# Computing the overall accuracy\n",
    "accuracy = accuracy_score(y_test, y_pred)\n",
    "\n",
    "# Extracting precision, recall, and F1-score for each class\n",
    "precision_alcoholic = report_dict['1']['precision']\n",
    "recall_alcoholic = report_dict['1']['recall']\n",
    "f1_alcoholic = report_dict['1']['f1-score']\n",
    "\n",
    "precision_control = report_dict['0']['precision']\n",
    "recall_control = report_dict['0']['recall']\n",
    "f1_control = report_dict['0']['f1-score']\n",
    "\n",
    "# Extracting macro and weighted averages\n",
    "macro_avg_precision = report_dict['macro avg']['precision']\n",
    "macro_avg_recall = report_dict['macro avg']['recall']\n",
    "macro_avg_f1 = report_dict['macro avg']['f1-score']\n",
    "\n",
    "weighted_avg_precision = report_dict['weighted avg']['precision']\n",
    "weighted_avg_recall = report_dict['weighted avg']['recall']\n",
    "weighted_avg_f1 = report_dict['weighted avg']['f1-score']\n",
    "\n",
    "# Printing the overall report\n",
    "print(\"Overall Classification Report Summary:\")\n",
    "print(f\"Accuracy: {accuracy:.2f}\")\n",
    "print(\"\\nClass 1 (Alcoholic):\")\n",
    "print(f\"  Precision: {precision_alcoholic:.2f}\")\n",
    "print(f\"  Recall: {recall_alcoholic:.2f}\")\n",
    "print(f\"  F1-Score: {f1_alcoholic:.2f}\")\n",
    "print(\"\\nClass 0 (Control):\")\n",
    "print(f\"  Precision: {precision_control:.2f}\")\n",
    "print(f\"  Recall: {recall_control:.2f}\")\n",
    "print(f\"  F1-Score: {f1_control:.2f}\")\n",
    "print(\"\\nMacro Average:\")\n",
    "print(f\"  Precision: {macro_avg_precision:.2f}\")\n",
    "print(f\"  Recall: {macro_avg_recall:.2f}\")\n",
    "print(f\"  F1-Score: {macro_avg_f1:.2f}\")\n",
    "print(\"\\nWeighted Average:\")\n",
    "print(f\"  Precision: {weighted_avg_precision:.2f}\")\n",
    "print(f\"  Recall: {weighted_avg_recall:.2f}\")\n",
    "print(f\"  F1-Score: {weighted_avg_f1:.2f}\")"
   ]
  }
 ],
 "metadata": {
  "language_info": {
   "name": "python"
  }
 },
 "nbformat": 4,
 "nbformat_minor": 2
}
