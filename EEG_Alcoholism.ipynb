{
 "cells": [
  {
   "cell_type": "markdown",
   "metadata": {},
   "source": [
    "## **EEG Alcoholism**"
   ]
  },
  {
   "cell_type": "markdown",
   "metadata": {},
   "source": [
    "### เริ่มแรกจากการ import **Libraly** และ load **Dataset**"
   ]
  },
  {
   "cell_type": "code",
   "execution_count": null,
   "metadata": {
    "_cell_guid": "b1076dfc-b9ad-4769-8c92-a6c4dae69d19",
    "_kg_hide-input": false,
    "_kg_hide-output": false,
    "_uuid": "8f2839f25d086af736a60e9eeb907d3b93b6e0e5",
    "execution": {
     "iopub.execute_input": "2024-12-14T14:37:59.864248Z",
     "iopub.status.busy": "2024-12-14T14:37:59.863738Z",
     "iopub.status.idle": "2024-12-14T14:38:02.904337Z",
     "shell.execute_reply": "2024-12-14T14:38:02.902719Z",
     "shell.execute_reply.started": "2024-12-14T14:37:59.864203Z"
    },
    "trusted": true
   },
   "outputs": [],
   "source": [
    "import numpy as np\n",
    "import pandas as pd\n",
    "\n",
    "import os\n",
    "for dirname, _, filenames in os.walk('./Dataset'):\n",
    "    for filename in filenames:\n",
    "        print(os.path.join(dirname, filename))\n"
   ]
  },
  {
   "cell_type": "code",
   "execution_count": null,
   "metadata": {
    "execution": {
     "iopub.execute_input": "2024-12-14T14:38:02.907333Z",
     "iopub.status.busy": "2024-12-14T14:38:02.906688Z",
     "iopub.status.idle": "2024-12-14T14:38:47.025952Z",
     "shell.execute_reply": "2024-12-14T14:38:47.024387Z",
     "shell.execute_reply.started": "2024-12-14T14:38:02.907292Z"
    },
    "trusted": true
   },
   "outputs": [],
   "source": [
    "%pip install mne"
   ]
  },
  {
   "cell_type": "code",
   "execution_count": null,
   "metadata": {
    "execution": {
     "iopub.execute_input": "2024-12-14T14:38:47.028446Z",
     "iopub.status.busy": "2024-12-14T14:38:47.028029Z",
     "iopub.status.idle": "2024-12-14T14:39:29.895094Z",
     "shell.execute_reply": "2024-12-14T14:39:29.893493Z",
     "shell.execute_reply.started": "2024-12-14T14:38:47.028406Z"
    },
    "trusted": true
   },
   "outputs": [],
   "source": [
    "%pip install PyWavelets"
   ]
  },
  {
   "cell_type": "code",
   "execution_count": 8,
   "metadata": {
    "execution": {
     "iopub.execute_input": "2024-12-14T14:39:29.899203Z",
     "iopub.status.busy": "2024-12-14T14:39:29.898569Z",
     "iopub.status.idle": "2024-12-14T14:39:36.110761Z",
     "shell.execute_reply": "2024-12-14T14:39:36.109508Z",
     "shell.execute_reply.started": "2024-12-14T14:39:29.899126Z"
    },
    "trusted": true
   },
   "outputs": [],
   "source": [
    "# Base libraries\n",
    "from multiprocessing import Pool\n",
    "\n",
    "import os\n",
    "import numpy as np\n",
    "import mne\n",
    "import pandas as pd\n",
    "import random\n",
    "\n",
    "from tqdm import tqdm\n",
    "import torch\n",
    "import torch.nn as nn\n",
    "import torch.nn.functional as F\n",
    "import seaborn as sns\n",
    "import matplotlib.pyplot as plt\n",
    "from scipy.fftpack import fft, fftfreq, rfft, rfftfreq\n",
    "from sklearn.preprocessing import quantile_transform\n",
    "from sklearn.preprocessing import minmax_scale\n",
    "from sklearn.preprocessing import normalize\n",
    "from sklearn.preprocessing import scale\n",
    "from sklearn.preprocessing import robust_scale\n",
    "import mne\n",
    "import matplotlib\n",
    "from collections import defaultdict\n",
    "from math import cos, sin, acos, radians, pi\n",
    "from scipy.interpolate import griddata\n",
    "from numpy import newaxis\n",
    "from torch.utils.data import Dataset, DataLoader\n",
    "from torchvision import transforms, utils\n",
    "\n",
    "\n",
    "# Wavelets\n",
    "import pywt"
   ]
  },
  {
   "cell_type": "code",
   "execution_count": 9,
   "metadata": {
    "execution": {
     "iopub.execute_input": "2024-12-14T14:39:36.113546Z",
     "iopub.status.busy": "2024-12-14T14:39:36.112749Z",
     "iopub.status.idle": "2024-12-14T14:39:36.119317Z",
     "shell.execute_reply": "2024-12-14T14:39:36.118223Z",
     "shell.execute_reply.started": "2024-12-14T14:39:36.113492Z"
    },
    "trusted": true
   },
   "outputs": [],
   "source": [
    "test_dir = './Dataset/SMNI_CMI_TEST'\n",
    "train_dir = './Dataset/SMNI_CMI_TRAIN'"
   ]
  },
  {
   "cell_type": "code",
   "execution_count": null,
   "metadata": {
    "execution": {
     "iopub.execute_input": "2024-12-14T14:39:36.121241Z",
     "iopub.status.busy": "2024-12-14T14:39:36.120815Z",
     "iopub.status.idle": "2024-12-14T14:39:36.242254Z",
     "shell.execute_reply": "2024-12-14T14:39:36.238881Z",
     "shell.execute_reply.started": "2024-12-14T14:39:36.121205Z"
    },
    "trusted": true
   },
   "outputs": [],
   "source": [
    "# convert to a pandas dataframe\n",
    "def read_csv(filename):\n",
    "    'converts a filename to a pandas dataframe'\n",
    "    return pd.read_csv(filename)\n",
    "\n",
    "\n",
    "# get a list of file names\n",
    "files_train = os.listdir(train_dir)\n",
    "\n",
    "files_test = os.listdir(test_dir)\n",
    "\n",
    "file_list_train = [os.path.join(train_dir, filename) for filename in files_train if '.' in filename and filename.split('.')[-1] == 'csv']\n",
    "file_list_test = [os.path.join(test_dir, filename) for filename in files_test if '.' in filename and filename.split('.')[-1] == 'csv']\n",
    "\n",
    "# set up pool\n",
    "with Pool(processes=12) as pool:\n",
    "    df_list_train = pool.map(read_csv, file_list_train)\n",
    "    df_list_test =  pool.map(read_csv, file_list_test)\n",
    "\n",
    "# combine the list of dataframes to a single dataframe\n",
    "combined_df_train = pd.concat(df_list_train, ignore_index=True)\n",
    "combined_df_test = pd.concat(df_list_test, ignore_index=True)\n",
    "combined_df = pd.concat([combined_df_train,combined_df_test], ignore_index=True)\n",
    "\n",
    "\n",
    "EEG_data = combined_df[combined_df['subject identifier'] == 'a']\n",
    "EEG_data_control = combined_df[combined_df['subject identifier'] == 'c']\n",
    "\n",
    "EEG_data.head()"
   ]
  },
  {
   "cell_type": "markdown",
   "metadata": {},
   "source": [
    "## **Data Cleaning**"
   ]
  },
  {
   "cell_type": "markdown",
   "metadata": {},
   "source": [
    "## Band Pass Filter<br>\n",
    "ทำความสะอาดข้อมูลด้วยการทำ bandpass filter เพื่อคัดเอาข้อมูลช่วงที่ไม่ต้องการออก โดยจะคัดคลื่นความถี่เหลือแค่ในช่วง 1 Hz ถึง 30 Hz จากนั้นจะนำ filter นี้ไปใช้กับข้อมูลคนคนที่ติด alcohol (EEG_data) กับ คนที่ไม่ได้ติด alcohol (EEG_data_control)"
   ]
  },
  {
   "cell_type": "code",
   "execution_count": null,
   "metadata": {
    "execution": {
     "iopub.status.busy": "2024-12-14T14:39:36.243324Z",
     "iopub.status.idle": "2024-12-14T14:39:36.243712Z",
     "shell.execute_reply": "2024-12-14T14:39:36.243557Z",
     "shell.execute_reply.started": "2024-12-14T14:39:36.243539Z"
    },
    "trusted": true
   },
   "outputs": [],
   "source": [
    "from scipy.signal import butter, lfilter"
   ]
  },
  {
   "cell_type": "code",
   "execution_count": null,
   "metadata": {
    "execution": {
     "iopub.status.busy": "2024-12-14T14:39:36.246099Z",
     "iopub.status.idle": "2024-12-14T14:39:36.246571Z",
     "shell.execute_reply": "2024-12-14T14:39:36.246401Z",
     "shell.execute_reply.started": "2024-12-14T14:39:36.246380Z"
    },
    "trusted": true
   },
   "outputs": [],
   "source": [
    "FS= 256\n",
    "# Butterworth Bandpass Filter function\n",
    "def butter_bandpass_filter(data, lowcut, highcut, fs, order=5):   #order=5: The filter's order. Higher orders give sharper frequency cutoffs but can distort the signal.\n",
    "    nyq = 0.5 * fs   #nyq = 0.5 * fs: The Nyquist frequency, half of the sampling rate, which represents the highest frequency that can be analyzed.\n",
    "    low = lowcut / nyq\n",
    "    high = highcut / nyq\n",
    "    b, a = butter(order, [low, high], btype='band')\n",
    "    y = lfilter(b, a, data)\n",
    "    return y\n",
    "\n",
    "# Apply to the sensor value\n",
    "def apply_filter(df):\n",
    "  # Lower and upper cutoff frequencies for the bandpass filter (e.g., 1 Hz to 30 Hz).\n",
    "    df['filtered_sensor_value'] = butter_bandpass_filter(df['sensor value'], 1, 30, FS)\n",
    "    return df\n",
    "\n",
    "# Apply the filter to both alcohol (EEG_data) and control (EEG_data_control)\n",
    "EEG_data_filtered = EEG_data.groupby(['name', 'trial number', 'sensor position']).apply(apply_filter).reset_index(drop=True)\n",
    "EEG_data_control_filtered = EEG_data_control.groupby(['name', 'trial number', 'sensor position']).apply(apply_filter).reset_index(drop=True)"
   ]
  },
  {
   "cell_type": "markdown",
   "metadata": {},
   "source": [
    "plot graph เพื่อแสดงตัวอย่างหลักจากที่ทำการ filter แล้ว"
   ]
  },
  {
   "cell_type": "code",
   "execution_count": null,
   "metadata": {
    "execution": {
     "iopub.status.busy": "2024-12-14T14:39:36.248062Z",
     "iopub.status.idle": "2024-12-14T14:39:36.248486Z",
     "shell.execute_reply": "2024-12-14T14:39:36.248322Z",
     "shell.execute_reply.started": "2024-12-14T14:39:36.248301Z"
    },
    "trusted": true
   },
   "outputs": [],
   "source": [
    "# Function to plot filtered data for selected sensors\n",
    "def plot_filtered_data(df_alcohol, df_control, sensors):\n",
    "    for sensor in sensors:\n",
    "        plt.figure(figsize=(15, 5))\n",
    "        for condition in df_alcohol['matching condition'].unique():\n",
    "            plt.subplot(1, len(df_alcohol['matching condition'].unique()),\n",
    "                        list(df_alcohol['matching condition'].unique()).index(condition) + 1)\n",
    "\n",
    "            # For alcohol group\n",
    "            subset_alcohol = df_alcohol[(df_alcohol['sensor position'] == sensor) &\n",
    "                                        (df_alcohol['matching condition'] == condition)]\n",
    "            if not subset_alcohol.empty:\n",
    "                subset_alcohol.groupby('time')['filtered_sensor_value'].mean().plot(\n",
    "                    label='Alcohol Group', color='blue', linewidth=1.5)\n",
    "\n",
    "            # For control group\n",
    "            subset_control = df_control[(df_control['sensor position'] == sensor) &\n",
    "                                        (df_control['matching condition'] == condition)]\n",
    "            if not subset_control.empty:\n",
    "                subset_control.groupby('time')['filtered_sensor_value'].mean().plot(\n",
    "                    label='Control Group', color='orange', linewidth=1.5)\n",
    "\n",
    "            plt.title(f'Sensor {sensor} - Condition: {condition}')\n",
    "            plt.xlabel('Time (s)')\n",
    "            plt.ylabel('Filtered Sensor Value (µV)')\n",
    "\n",
    "            # Only show legend if there is something to show\n",
    "            if not subset_alcohol.empty or not subset_control.empty:\n",
    "                plt.legend()\n",
    "\n",
    "        plt.tight_layout()\n",
    "        plt.show()\n",
    "\n",
    "# Specify sensors\n",
    "sensors_to_plot = ['AF1', 'FP1', 'CZ']  # Replace with actual sensor names\n",
    "plot_filtered_data(EEG_data_filtered, EEG_data_control_filtered, sensors_to_plot)"
   ]
  },
  {
   "cell_type": "markdown",
   "metadata": {},
   "source": [
    "การใช้ EEG ในการตรวจจับอาการติดสุราเกิดจากความสามารถในการบันทึกสัญญาณไฟฟ้าที่แสดงออกมาในรูปแบบที่ต่างกันระหว่างผู้ที่ดื่มแอลกอฮอล์และผู้ที่ไม่ดื่ม ซึ่งความถี่ของสัญญาณ EEG ถูกแบ่งออกเป็นกลุ่มต่างๆ คือ \n",
    "* **Delta (0.5 - 4 Hz):** เกี่ยวข้องกับการหลับลึกหรือช่วงที่ไม่ได้สติ\n",
    "* **Theta (4 - 8 Hz):** เกี่ยวข้องกับอาการง่วงนอน, ความรู้สึกผ่อนคลาย และการหลับไม่สนิท รวมถึงการสร้างความจำและความคิดสร้างสรรค์อีกด้วย\n",
    "* **Alpha (8 - 13 Hz):** เกี่ยวข้องกับความผ่อนคลายหรือช่วงที่รู้สึกสงบสงบ มักพบเมื่อหลับตาและสมองอยู่ในสภาวะพักผ่อน\n",
    "* **Beta (13 - 30 Hz):** เกี่ยวข้องกับการใช้ความคิด, การใช้สมาธิ, และการแก้ปัญหา มัก\n",
    "เกิดขึ้นระหว่าการทำงกิจกรราและการเคลื่อนไหs."
   ]
  },
  {
   "cell_type": "code",
   "execution_count": null,
   "metadata": {
    "execution": {
     "iopub.status.busy": "2024-12-14T14:39:36.249819Z",
     "iopub.status.idle": "2024-12-14T14:39:36.250182Z",
     "shell.execute_reply": "2024-12-14T14:39:36.250012Z",
     "shell.execute_reply.started": "2024-12-14T14:39:36.249995Z"
    },
    "trusted": true
   },
   "outputs": [],
   "source": [
    "EEG_data=EEG_data_filtered\n",
    "EEG_data_control=EEG_data_control_filtered"
   ]
  },
  {
   "cell_type": "markdown",
   "metadata": {},
   "source": [
    "ต่อไปจะทำการแปลง sensor position ให้อยู่ในรูปแบบของ 10/10 System"
   ]
  },
  {
   "cell_type": "code",
   "execution_count": null,
   "metadata": {
    "execution": {
     "iopub.status.busy": "2024-12-14T14:39:36.251148Z",
     "iopub.status.idle": "2024-12-14T14:39:36.251553Z",
     "shell.execute_reply": "2024-12-14T14:39:36.251399Z",
     "shell.execute_reply.started": "2024-12-14T14:39:36.251379Z"
    },
    "trusted": true
   },
   "outputs": [],
   "source": [
    "EEG_data.head() # Before"
   ]
  },
  {
   "cell_type": "code",
   "execution_count": null,
   "metadata": {
    "execution": {
     "iopub.status.busy": "2024-12-14T14:39:36.252660Z",
     "iopub.status.idle": "2024-12-14T14:39:36.252993Z",
     "shell.execute_reply": "2024-12-14T14:39:36.252848Z",
     "shell.execute_reply.started": "2024-12-14T14:39:36.252830Z"
    },
    "trusted": true
   },
   "outputs": [],
   "source": [
    "# standardizing the sensor position naming convention\n",
    "\n",
    "#\n",
    "\n",
    "EEG_data = EEG_data.drop(['Unnamed: 0'], axis=1)\n",
    "EEG_data.loc[EEG_data['matching condition'] == 'S2 nomatch,', 'matching condition'] =  'S2 nomatch' ## remove comma sign e\n",
    "\n",
    "\n",
    "EEG_data.loc[EEG_data['sensor position'] == 'AF1', 'sensor position'] = 'AF3'\n",
    "EEG_data.loc[EEG_data['sensor position'] == 'AF2', 'sensor position'] = 'AF4'\n",
    "EEG_data.loc[EEG_data['sensor position'] == 'PO1', 'sensor position'] = 'PO3'\n",
    "EEG_data.loc[EEG_data['sensor position'] == 'PO2', 'sensor position'] = 'PO4'\n",
    "\n",
    "EEG_data.loc[EEG_data['sensor position'] == 'FP1', 'sensor position'] = 'Fp1'\n",
    "EEG_data.loc[EEG_data['sensor position'] == 'FP2', 'sensor position'] = 'Fp2'\n",
    "EEG_data.loc[EEG_data['sensor position'] == 'CPZ', 'sensor position'] = 'CPz'\n",
    "EEG_data.loc[EEG_data['sensor position'] == 'FZ', 'sensor position'] = 'Fz'\n",
    "\n",
    "EEG_data.loc[EEG_data['sensor position'] == 'CZ', 'sensor position'] = 'Cz'\n",
    "\n",
    "EEG_data.loc[EEG_data['sensor position'] == 'PZ', 'sensor position'] = 'Pz'\n",
    "EEG_data.loc[EEG_data['sensor position'] == 'FPZ', 'sensor position'] = 'Fpz'\n",
    "EEG_data.loc[EEG_data['sensor position'] == 'AFZ', 'sensor position'] = 'AFz'\n",
    "EEG_data.loc[EEG_data['sensor position'] == 'FCZ', 'sensor position'] = 'FCz'\n",
    "\n",
    "EEG_data.loc[EEG_data['sensor position'] == 'POZ', 'sensor position'] = 'POz'\n",
    "EEG_data.loc[EEG_data['sensor position'] == 'OZ', 'sensor position'] = 'Oz'\n",
    "\n",
    "## Control Group\n",
    "\n",
    "\n",
    "EEG_data_control = EEG_data_control.drop(['Unnamed: 0'], axis=1)\n",
    "EEG_data_control.loc[EEG_data_control['matching condition'] == 'S2 nomatch,', 'matching condition'] =  'S2 nomatch'\n",
    "## replace some 'sensor position' values\n",
    "EEG_data_control.loc[EEG_data_control['sensor position'] == 'AF1', 'sensor position'] = 'AF3'\n",
    "EEG_data_control.loc[EEG_data_control['sensor position'] == 'AF2', 'sensor position'] = 'AF4'\n",
    "EEG_data_control.loc[EEG_data_control['sensor position'] == 'PO1', 'sensor position'] = 'PO3'\n",
    "EEG_data_control.loc[EEG_data_control['sensor position'] == 'PO2', 'sensor position'] = 'PO4'\n",
    "\n",
    "EEG_data_control.loc[EEG_data_control['sensor position'] == 'FP1', 'sensor position'] = 'Fp1'\n",
    "EEG_data_control.loc[EEG_data_control['sensor position'] == 'FP2', 'sensor position'] = 'Fp2'\n",
    "EEG_data_control.loc[EEG_data_control['sensor position'] == 'CPZ', 'sensor position'] = 'CPz'\n",
    "EEG_data_control.loc[EEG_data_control['sensor position'] == 'FZ', 'sensor position'] = 'Fz'\n",
    "\n",
    "EEG_data_control.loc[EEG_data_control['sensor position'] == 'CZ', 'sensor position'] = 'Cz'\n",
    "\n",
    "EEG_data_control.loc[EEG_data_control['sensor position'] == 'PZ', 'sensor position'] = 'Pz'\n",
    "EEG_data_control.loc[EEG_data_control['sensor position'] == 'FPZ', 'sensor position'] = 'Fpz'\n",
    "EEG_data_control.loc[EEG_data_control['sensor position'] == 'AFZ', 'sensor position'] = 'AFz'\n",
    "EEG_data_control.loc[EEG_data_control['sensor position'] == 'FCZ', 'sensor position'] = 'FCz'\n",
    "\n",
    "EEG_data_control.loc[EEG_data_control['sensor position'] == 'POZ', 'sensor position'] = 'POz'\n",
    "EEG_data_control.loc[EEG_data_control['sensor position'] == 'OZ', 'sensor position'] = 'Oz'\n",
    "EEG_data_control.head() # After"
   ]
  },
  {
   "cell_type": "code",
   "execution_count": null,
   "metadata": {
    "execution": {
     "iopub.status.busy": "2024-12-14T14:39:36.254248Z",
     "iopub.status.idle": "2024-12-14T14:39:36.254662Z",
     "shell.execute_reply": "2024-12-14T14:39:36.254483Z",
     "shell.execute_reply.started": "2024-12-14T14:39:36.254463Z"
    },
    "trusted": true
   },
   "outputs": [],
   "source": [
    "EEG_data.to_csv('EEG_data.csv')\n",
    "EEG_data_control.to_csv('EEG_data_control.csv')"
   ]
  },
  {
   "cell_type": "code",
   "execution_count": null,
   "metadata": {
    "execution": {
     "iopub.status.busy": "2024-12-14T14:39:36.256511Z",
     "iopub.status.idle": "2024-12-14T14:39:36.256940Z",
     "shell.execute_reply": "2024-12-14T14:39:36.256752Z",
     "shell.execute_reply.started": "2024-12-14T14:39:36.256732Z"
    },
    "trusted": true
   },
   "outputs": [],
   "source": [
    "# Organzing according to experiment condition groups\n",
    "\n",
    "#Alc_Groups\n",
    "Alc_S1Obj = EEG_data[EEG_data['matching condition'] == 'S1 obj']\n",
    "Alc_S2Match = EEG_data[EEG_data['matching condition'] == 'S2 match']\n",
    "Alc_S2Nomatch = EEG_data[EEG_data['matching condition'] == 'S2 nomatch']\n",
    "\n",
    "#Control groups\n",
    "Con_S1Obj = EEG_data_control[EEG_data_control['matching condition'] == 'S1 obj']\n",
    "Con_S2Match = EEG_data_control[EEG_data_control['matching condition'] == 'S2 match']\n",
    "Con_S2Nomatch = EEG_data_control[EEG_data_control['matching condition'] == 'S2 nomatch']\n",
    "\n",
    "\n",
    "def trial_len_integrity_check(inputDF):\n",
    "\n",
    "  nameAndTrialNumber = inputDF.groupby(['trial number','name']).size().reset_index().rename(columns={0:'count'})\n",
    "  nameAndTrialNumber['count'] =np.where(nameAndTrialNumber['count'] == 16384,False,True)\n",
    "\n",
    "  del inputDF\n",
    "\n",
    "  if nameAndTrialNumber['count'].any():\n",
    "    # data integrity problem\n",
    "    Exception('Data Integrity problem, one of the arrays is not shaped 256x256')\n",
    "\n",
    "\n",
    "  return nameAndTrialNumber[['trial number','name']]\n",
    "\n",
    "\n",
    "# Creating dataframes that contain relevant indexing information and checks data integrity\n",
    "# Trial Number, and subject names\n",
    "\n",
    "Con_S1Obj_Index = trial_len_integrity_check(Con_S1Obj)\n",
    "Con_S2Match_Index = trial_len_integrity_check(Con_S2Match)\n",
    "Con_S2Nomatch_Index = trial_len_integrity_check(Con_S2Nomatch)\n",
    "\n",
    "Alc_S1Obj_Index = trial_len_integrity_check(Alc_S1Obj)\n",
    "Alc_S2Match_Index = trial_len_integrity_check(Alc_S2Match)\n",
    "Alc_S2Nomatch_Index = trial_len_integrity_check(Alc_S2Nomatch)\n",
    "\n",
    "All_Alcs = pd.concat([Alc_S1Obj_Index,Alc_S2Match_Index,Alc_S2Nomatch_Index])\n",
    "All_Cons = pd.concat([Con_S1Obj_Index,Con_S2Match_Index,Con_S2Nomatch_Index])\n",
    "\n",
    "All_Alcs.reset_index(drop=True,inplace=True)\n",
    "All_Cons.reset_index(drop=True,inplace=True)"
   ]
  },
  {
   "cell_type": "code",
   "execution_count": null,
   "metadata": {
    "execution": {
     "iopub.status.busy": "2024-12-14T14:39:36.259251Z",
     "iopub.status.idle": "2024-12-14T14:39:36.259652Z",
     "shell.execute_reply": "2024-12-14T14:39:36.259483Z",
     "shell.execute_reply.started": "2024-12-14T14:39:36.259464Z"
    },
    "trusted": true
   },
   "outputs": [],
   "source": [
    "EEG_data_agg = EEG_data.groupby(['time', 'sensor position']).agg({'sensor value': 'mean'}).reset_index()\n",
    "EEG_data_pivoted = EEG_data_agg.pivot(index='time', columns='sensor position', values='sensor value')\n",
    "EEG_data_pivoted.drop(columns=['X','Y','nd'],inplace=True)\n",
    "EEG_data_pivoted"
   ]
  },
  {
   "cell_type": "code",
   "execution_count": null,
   "metadata": {
    "execution": {
     "iopub.status.busy": "2024-12-14T14:39:36.260899Z",
     "iopub.status.idle": "2024-12-14T14:39:36.261298Z",
     "shell.execute_reply": "2024-12-14T14:39:36.261095Z",
     "shell.execute_reply.started": "2024-12-14T14:39:36.261078Z"
    },
    "trusted": true
   },
   "outputs": [],
   "source": [
    "EEG_data_pivoted.to_csv('EEG_data_pivoted.csv')"
   ]
  },
  {
   "cell_type": "code",
   "execution_count": null,
   "metadata": {
    "execution": {
     "iopub.status.busy": "2024-12-14T14:39:36.262335Z",
     "iopub.status.idle": "2024-12-14T14:39:36.262705Z",
     "shell.execute_reply": "2024-12-14T14:39:36.262525Z",
     "shell.execute_reply.started": "2024-12-14T14:39:36.262508Z"
    },
    "trusted": true
   },
   "outputs": [],
   "source": [
    "EEG_data_control_agg = EEG_data_control.groupby(['time', 'sensor position']).agg({'sensor value': 'mean'}).reset_index()\n",
    "EEG_data_control_pivoted = EEG_data_control_agg.pivot(index='time', columns='sensor position', values='sensor value')\n",
    "EEG_data_control_pivoted.drop(columns=['X','Y','nd'],inplace=True)\n",
    "EEG_data_control_pivoted"
   ]
  },
  {
   "cell_type": "code",
   "execution_count": null,
   "metadata": {
    "execution": {
     "iopub.status.busy": "2024-12-14T14:39:36.265016Z",
     "iopub.status.idle": "2024-12-14T14:39:36.265446Z",
     "shell.execute_reply": "2024-12-14T14:39:36.265278Z",
     "shell.execute_reply.started": "2024-12-14T14:39:36.265258Z"
    },
    "trusted": true
   },
   "outputs": [],
   "source": [
    "EEG_data_control_pivoted.to_csv('EEG_data_control_pivoted.csv')"
   ]
  },
  {
   "cell_type": "code",
   "execution_count": null,
   "metadata": {
    "execution": {
     "iopub.status.busy": "2024-12-14T14:39:36.267285Z",
     "iopub.status.idle": "2024-12-14T14:39:36.267862Z",
     "shell.execute_reply": "2024-12-14T14:39:36.267600Z",
     "shell.execute_reply.started": "2024-12-14T14:39:36.267571Z"
    },
    "trusted": true
   },
   "outputs": [],
   "source": [
    "file_path_alcoholic = 'EEG_data_pivoted.csv'\n",
    "file_path_control = 'EEG_data_control_pivoted.csv'\n",
    "\n",
    "eeg_alcoholic = pd.read_csv(file_path_alcoholic)\n",
    "eeg_control = pd.read_csv(file_path_control)"
   ]
  },
  {
   "cell_type": "code",
   "execution_count": null,
   "metadata": {
    "execution": {
     "iopub.status.busy": "2024-12-14T14:39:36.270137Z",
     "iopub.status.idle": "2024-12-14T14:39:36.270561Z",
     "shell.execute_reply": "2024-12-14T14:39:36.270402Z",
     "shell.execute_reply.started": "2024-12-14T14:39:36.270382Z"
    },
    "trusted": true
   },
   "outputs": [],
   "source": [
    "eeg_alcoholic.columns"
   ]
  },
  {
   "cell_type": "markdown",
   "metadata": {},
   "source": [
    "Plot graph แสดงความแตกต่างระหว่างคนที่ไม่ กับไม่ติด alcohol ในแต่ละ sensor position"
   ]
  },
  {
   "cell_type": "code",
   "execution_count": null,
   "metadata": {
    "execution": {
     "iopub.status.busy": "2024-12-14T14:39:36.271757Z",
     "iopub.status.idle": "2024-12-14T14:39:36.272140Z",
     "shell.execute_reply": "2024-12-14T14:39:36.271983Z",
     "shell.execute_reply.started": "2024-12-14T14:39:36.271959Z"
    },
    "trusted": true
   },
   "outputs": [],
   "source": [
    "import matplotlib.pyplot as plt\n",
    "%matplotlib inline\n",
    "\n",
    "sample_sp_column = eeg_alcoholic.columns\n",
    "for column in sample_sp_column:\n",
    "    if column not in ['time', 'label']:\n",
    "        plt.figure(figsize=(15, 5))\n",
    "        plt.scatter(eeg_alcoholic['time'], eeg_alcoholic[column], label=f'Alcoholic {column}', color='blue', alpha=0.5)\n",
    "        plt.scatter(eeg_control['time'], eeg_control[column], label=f'Control {column}', color='orange', alpha=0.5)\n",
    "        plt.title(f'EEG Data - Alcoholic Group vs Control Group for {column}')\n",
    "        plt.xlabel('Time')\n",
    "        plt.ylabel('Sensor Value')\n",
    "        plt.legend(loc='upper center', bbox_to_anchor=(0.5, -0.15), ncol=2)\n",
    "        plt.tight_layout()\n",
    "        plt.show()"
   ]
  },
  {
   "cell_type": "markdown",
   "metadata": {},
   "source": [
    "## **Model Training and Fitting**"
   ]
  },
  {
   "cell_type": "code",
   "execution_count": null,
   "metadata": {
    "execution": {
     "iopub.status.busy": "2024-12-14T14:39:36.274216Z",
     "iopub.status.idle": "2024-12-14T14:39:36.274718Z",
     "shell.execute_reply": "2024-12-14T14:39:36.274496Z",
     "shell.execute_reply.started": "2024-12-14T14:39:36.274471Z"
    },
    "trusted": true
   },
   "outputs": [],
   "source": [
    "from sklearn.model_selection import train_test_split\n",
    "from sklearn.neighbors import KNeighborsClassifier\n",
    "from sklearn.preprocessing import StandardScaler\n",
    "from sklearn.metrics import classification_report, confusion_matrix\n",
    "\n",
    "# Adding a label to distinguish between alcoholic (1) and control (0)\n",
    "eeg_alcoholic['label'] = 1\n",
    "eeg_control['label'] = 0\n",
    "\n",
    "# Combining both datasets\n",
    "eeg_combined = pd.concat([eeg_alcoholic, eeg_control], ignore_index=True)\n",
    "\n",
    "# Defining features (sensor data) and label\n",
    "X = eeg_combined.drop(['time', 'label'], axis=1)\n",
    "y = eeg_combined['label']\n",
    "\n",
    "# Splitting the data into training and testing sets\n",
    "X_train, X_test, y_train, y_test = train_test_split(X, y, test_size=0.2, random_state=42)\n",
    "\n",
    "# Standardizing the data\n",
    "scaler = StandardScaler()\n",
    "X_train_scaled = scaler.fit_transform(X_train)\n",
    "X_test_scaled = scaler.transform(X_test)\n",
    "\n",
    "# Standardizing has a significant impact on accuracy.\n",
    "# X_train_scaled = X_train\n",
    "# X_test_scaled = X_test\n",
    "\n",
    "# Training the KNN classifier\n",
    "knn = KNeighborsClassifier(n_neighbors=7)\n",
    "knn.fit(X_train_scaled, y_train)\n",
    "\n",
    "# Making predictions\n",
    "y_pred = knn.predict(X_test_scaled)"
   ]
  },
  {
   "cell_type": "markdown",
   "metadata": {},
   "source": [
    "## **Model Evaluating**"
   ]
  },
  {
   "cell_type": "code",
   "execution_count": null,
   "metadata": {
    "execution": {
     "iopub.status.busy": "2024-12-14T14:39:36.276117Z",
     "iopub.status.idle": "2024-12-14T14:39:36.276665Z",
     "shell.execute_reply": "2024-12-14T14:39:36.276427Z",
     "shell.execute_reply.started": "2024-12-14T14:39:36.276398Z"
    },
    "trusted": true
   },
   "outputs": [],
   "source": [
    "# Evaluating the model\n",
    "conf_matrix = confusion_matrix(y_test, y_pred)\n",
    "class_report = classification_report(y_test, y_pred)\n",
    "\n",
    "# Plotting the confusion matrix\n",
    "plt.figure(figsize=(6,4))\n",
    "sns.heatmap(conf_matrix, annot=True, fmt='g', cmap='Blues', cbar=False)\n",
    "plt.title('Confusion Matrix')\n",
    "plt.xlabel('Predicted Labels')\n",
    "plt.ylabel('True Labels')\n",
    "plt.show()\n",
    "\n",
    "# Displaying the classification report in a tabular form\n",
    "report_df = pd.DataFrame(classification_report(y_test, y_pred, output_dict=True)).transpose()\n",
    "\n",
    "# Showing the classification report\n",
    "print(\"Classification Report:\")\n",
    "print(report_df)"
   ]
  },
  {
   "cell_type": "markdown",
   "metadata": {},
   "source": [
    "## **Classification Report Summary**"
   ]
  },
  {
   "cell_type": "code",
   "execution_count": null,
   "metadata": {
    "execution": {
     "iopub.status.busy": "2024-12-14T14:39:36.278277Z",
     "iopub.status.idle": "2024-12-14T14:39:36.278910Z",
     "shell.execute_reply": "2024-12-14T14:39:36.278611Z",
     "shell.execute_reply.started": "2024-12-14T14:39:36.278583Z"
    },
    "trusted": true
   },
   "outputs": [],
   "source": [
    "from sklearn.metrics import accuracy_score\n",
    "\n",
    "# Extracting the overall metrics from the classification report\n",
    "report_dict = classification_report(y_test, y_pred, output_dict=True)\n",
    "\n",
    "# Computing the overall accuracy\n",
    "accuracy = accuracy_score(y_test, y_pred)\n",
    "\n",
    "# Extracting precision, recall, and F1-score for each class\n",
    "precision_alcoholic = report_dict['1']['precision']\n",
    "recall_alcoholic = report_dict['1']['recall']\n",
    "f1_alcoholic = report_dict['1']['f1-score']\n",
    "\n",
    "precision_control = report_dict['0']['precision']\n",
    "recall_control = report_dict['0']['recall']\n",
    "f1_control = report_dict['0']['f1-score']\n",
    "\n",
    "# Extracting macro and weighted averages\n",
    "macro_avg_precision = report_dict['macro avg']['precision']\n",
    "macro_avg_recall = report_dict['macro avg']['recall']\n",
    "macro_avg_f1 = report_dict['macro avg']['f1-score']\n",
    "\n",
    "weighted_avg_precision = report_dict['weighted avg']['precision']\n",
    "weighted_avg_recall = report_dict['weighted avg']['recall']\n",
    "weighted_avg_f1 = report_dict['weighted avg']['f1-score']\n",
    "\n",
    "# Printing the overall report\n",
    "print(\"Overall Classification Report Summary:\")\n",
    "print(f\"Accuracy: {accuracy:.2f}\")\n",
    "print(\"\\nClass 1 (Alcoholic):\")\n",
    "print(f\"  Precision: {precision_alcoholic:.2f}\")\n",
    "print(f\"  Recall: {recall_alcoholic:.2f}\")\n",
    "print(f\"  F1-Score: {f1_alcoholic:.2f}\")\n",
    "print(\"\\nClass 0 (Control):\")\n",
    "print(f\"  Precision: {precision_control:.2f}\")\n",
    "print(f\"  Recall: {recall_control:.2f}\")\n",
    "print(f\"  F1-Score: {f1_control:.2f}\")\n",
    "print(\"\\nMacro Average:\")\n",
    "print(f\"  Precision: {macro_avg_precision:.2f}\")\n",
    "print(f\"  Recall: {macro_avg_recall:.2f}\")\n",
    "print(f\"  F1-Score: {macro_avg_f1:.2f}\")\n",
    "print(\"\\nWeighted Average:\")\n",
    "print(f\"  Precision: {weighted_avg_precision:.2f}\")\n",
    "print(f\"  Recall: {weighted_avg_recall:.2f}\")\n",
    "print(f\"  F1-Score: {weighted_avg_f1:.2f}\")"
   ]
  }
 ],
 "metadata": {
  "kaggle": {
   "accelerator": "none",
   "dataSources": [
    {
     "datasetId": 2039,
     "sourceId": 3478,
     "sourceType": "datasetVersion"
    }
   ],
   "dockerImageVersionId": 30804,
   "isGpuEnabled": false,
   "isInternetEnabled": false,
   "language": "python",
   "sourceType": "notebook"
  },
  "kernelspec": {
   "display_name": "Python 3",
   "language": "python",
   "name": "python3"
  },
  "language_info": {
   "codemirror_mode": {
    "name": "ipython",
    "version": 3
   },
   "file_extension": ".py",
   "mimetype": "text/x-python",
   "name": "python",
   "nbconvert_exporter": "python",
   "pygments_lexer": "ipython3",
   "version": "3.10.14"
  }
 },
 "nbformat": 4,
 "nbformat_minor": 4
}
